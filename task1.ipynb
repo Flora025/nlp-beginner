{
 "cells": [
  {
   "attachments": {},
   "cell_type": "markdown",
   "metadata": {},
   "source": [
    "# 任务一：基于机器学习的文本分类\n",
    "\n",
    "## Task description\n",
    "实现基于logistic/softmax regression的文本分类\n"
   ]
  },
  {
   "attachments": {},
   "cell_type": "markdown",
   "metadata": {},
   "source": [
    "## References（不分先后）：\n",
    "\n",
    "基础薄弱悲中卑\n",
    "\n",
    "1. [post：NLP入门——从0到实现文本分类](https://zhuanlan.zhihu.com/p/77726136)\n",
    "\n",
    "    intro to text classification tasks（vectorization, BoW/word embedding, experiment structure）\n",
    "\n",
    "2. [post：使用机器学习进行文本分类](https://www.modb.pro/db/96265)\n",
    "\n",
    "    a full demo of sentiment classification (RandomForestClassifier)\n",
    "\n",
    "3. [post: NLP for beginners (kaggle)](https://www.kaggle.com/code/faressayah/natural-language-processing-nlp-for-beginners/notebook#%F0%9F%93%9A-NLP-(Natural-Language-Processing)-with-Python)\n",
    "\n",
    "    a full demo of sentiment extraction (logistic regression and Naive Bayes)\n",
    "\n",
    "4. [course: Machine Learning Specialization by Andrew Ng - Course materials](https://github.com/kaieye/2022-Machine-Learning-Specialization)\n",
    "\n",
    "    logistic regression, plotting...\n",
    "\n",
    "5. [book:《神经网络与深度学习》](https://nndl.github.io/)\n",
    "\n",
    "    basics. definitions, algorithms..."
   ]
  },
  {
   "attachments": {},
   "cell_type": "markdown",
   "metadata": {},
   "source": [
    "## My roadmap\n",
    "\n",
    "1. read [5] (C2&3) and [1] (the intro part) to gain some insights into the task\n",
    "\n",
    "2. watch [4], beginner-friendly videos about LR and NN by Ng\n",
    "   \n",
    "3. walk through procedures and codes in [3] and [2]\n",
    "\n",
    "4. hands-on practice"
   ]
  },
  {
   "attachments": {},
   "cell_type": "markdown",
   "metadata": {},
   "source": [
    "## 笔记\n",
    "\n"
   ]
  },
  {
   "cell_type": "markdown",
   "metadata": {},
   "source": []
  }
 ],
 "metadata": {
  "kernelspec": {
   "display_name": "Python 3",
   "language": "python",
   "name": "python3"
  },
  "language_info": {
   "name": "python",
   "version": "3.9.13 (main, May 24 2022, 21:28:31) \n[Clang 13.1.6 (clang-1316.0.21.2)]"
  },
  "orig_nbformat": 4,
  "vscode": {
   "interpreter": {
    "hash": "aee8b7b246df8f9039afb4144a1f6fd8d2ca17a180786b69acc140d282b71a49"
   }
  }
 },
 "nbformat": 4,
 "nbformat_minor": 2
}
